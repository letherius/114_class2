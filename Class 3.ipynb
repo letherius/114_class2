{
 "cells": [
  {
   "cell_type": "code",
   "execution_count": 3,
   "id": "079867bb",
   "metadata": {},
   "outputs": [],
   "source": [
    "class Queue:\n",
    "    def __init__(self):\n",
    "        self.items = []\n",
    "        \n",
    "    def enqueue(self, element):\n",
    "        self.items.append(element)\n",
    "        \n",
    "    def dequeue(self):\n",
    "        return self.items.pop(0)\n",
    "        \n",
    "    # nice to have:\n",
    "    \n",
    "    def size(self):\n",
    "        return len(self.items)\n",
    "    \n",
    "    def is_empty(self):\n",
    "        return self.items == []\n",
    "    \n",
    "    def peek(self):\n",
    "        return self.items[len(self.items)-1]\n",
    "    \n",
    "    def __len__(self):\n",
    "        return self.size()\n",
    "    "
   ]
  },
  {
   "cell_type": "code",
   "execution_count": 4,
   "id": "8aa3a1d9",
   "metadata": {},
   "outputs": [
    {
     "name": "stdout",
     "output_type": "stream",
     "text": [
      "0\n",
      "1\n",
      "2\n",
      "3\n",
      "4\n",
      "5\n",
      "6\n",
      "7\n",
      "8\n",
      "9\n",
      "10\n"
     ]
    }
   ],
   "source": [
    "x = [i for i in range(11)]\n",
    "\n",
    "def delay_items(mylist):\n",
    "    myqueue = Queue()\n",
    "    for number in mylist:\n",
    "        myqueue.enqueue(number)\n",
    "    while not myqueue.is_empty():\n",
    "        print(myqueue.dequeue())\n",
    "        \n",
    "delay_items(x)"
   ]
  },
  {
   "cell_type": "markdown",
   "id": "ddc7cad8",
   "metadata": {},
   "source": [
    "# Problem 1\n",
    "\n",
    "### Create a queue from scratch following the guidelines (and process) we learned last class.\n",
    "\n",
    "```\n",
    "Acceptance criteria:\n",
    "1. Your queue class must allow a user to enqueue elements.\n",
    "2. Your queue class must allow a user to dequeue elements (which returns the element and removes the node that holds it).\n",
    "3. Your solution must not rely on built-in data structures (consider using nodes!)\n"
   ]
  },
  {
   "cell_type": "code",
   "execution_count": 6,
   "id": "7b90241e",
   "metadata": {},
   "outputs": [],
   "source": [
    "class Node:\n",
    "    def __init__(self, data):\n",
    "        self.data = data\n",
    "        self.prev = None\n",
    "    \n",
    "class Queue:    \n",
    "    def __init__(self):\n",
    "        self.front = None\n",
    "        \n",
    "    def enqueue(self, element):\n",
    "        if self.front != None:\n",
    "            current = self.front\n",
    "            while current.prev:\n",
    "                current = current.prev\n",
    "            current.prev = Node(element)\n",
    "        else:\n",
    "            self.front = Node(element)\n",
    "            \n",
    "            \n",
    "    def dequeue(self):\n",
    "        if self.front:\n",
    "            output = self.front.data\n",
    "            self.front = self.front.prev\n",
    "            return output\n",
    "        return None\n",
    "    "
   ]
  },
  {
   "cell_type": "code",
   "execution_count": 8,
   "id": "646438f0",
   "metadata": {},
   "outputs": [],
   "source": [
    "class Node:\n",
    "    def __init__(self, data):\n",
    "        self.data = data\n",
    "        self.next = None\n",
    "        \n",
    "class SinglyLinkedList:\n",
    "    def __init__(self):\n",
    "        self.head = None\n",
    "        \n",
    "    def append(self, element):\n",
    "        new_node = Node(element)\n",
    "        if self.head:\n",
    "            current = self.head\n",
    "            while current.next:\n",
    "                current = current.next\n",
    "            current.next = new_node\n",
    "        else:\n",
    "            self.head = new_node\n",
    "            \n",
    "    def __str__(self):\n",
    "        current = self.head\n",
    "        output_str = \"[ %s\" % current.data\n",
    "        while current:\n",
    "            current = current.next\n",
    "            if current:\n",
    "                ouput_str += \", %s\" % current.data\n",
    "            output_str = \"]\"\n",
    "            return output_str"
   ]
  },
  {
   "cell_type": "code",
   "execution_count": 9,
   "id": "7ddcfdce",
   "metadata": {},
   "outputs": [
    {
     "ename": "NameError",
     "evalue": "name 's11' is not defined",
     "output_type": "error",
     "traceback": [
      "\u001b[0;31m---------------------------------------------------------------------------\u001b[0m",
      "\u001b[0;31mNameError\u001b[0m                                 Traceback (most recent call last)",
      "Cell \u001b[0;32mIn[9], line 6\u001b[0m\n\u001b[1;32m      3\u001b[0m \u001b[38;5;28;01mfor\u001b[39;00m i \u001b[38;5;129;01min\u001b[39;00m \u001b[38;5;28mrange\u001b[39m(\u001b[38;5;241m10\u001b[39m):\n\u001b[1;32m      4\u001b[0m     sll\u001b[38;5;241m.\u001b[39mappend(i)\n\u001b[0;32m----> 6\u001b[0m \u001b[38;5;28mprint\u001b[39m(\u001b[43ms11\u001b[49m)\n",
      "\u001b[0;31mNameError\u001b[0m: name 's11' is not defined"
     ]
    }
   ],
   "source": [
    "sll = SinglyLinkedList()\n",
    "\n",
    "for i in range(10):\n",
    "    sll.append(i)\n",
    "    \n",
    "print(s11)"
   ]
  },
  {
   "cell_type": "code",
   "execution_count": null,
   "id": "4b5e3a2a",
   "metadata": {},
   "outputs": [],
   "source": []
  }
 ],
 "metadata": {
  "kernelspec": {
   "display_name": "Python 3 (ipykernel)",
   "language": "python",
   "name": "python3"
  },
  "language_info": {
   "codemirror_mode": {
    "name": "ipython",
    "version": 3
   },
   "file_extension": ".py",
   "mimetype": "text/x-python",
   "name": "python",
   "nbconvert_exporter": "python",
   "pygments_lexer": "ipython3",
   "version": "3.10.6"
  }
 },
 "nbformat": 4,
 "nbformat_minor": 5
}
